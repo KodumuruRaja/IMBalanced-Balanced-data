{
  "nbformat": 4,
  "nbformat_minor": 0,
  "metadata": {
    "colab": {
      "name": "ImbalancedData RandomOverSampling.ipynb",
      "provenance": [],
      "collapsed_sections": [],
      "authorship_tag": "ABX9TyPPBn9xwZGAkb0EhDpRmTyS",
      "include_colab_link": true
    },
    "kernelspec": {
      "name": "python3",
      "display_name": "Python 3"
    }
  },
  "cells": [
    {
      "cell_type": "markdown",
      "metadata": {
        "id": "view-in-github",
        "colab_type": "text"
      },
      "source": [
        "<a href=\"https://colab.research.google.com/github/KodumuruRaja/IMBalanced-Balanced-data/blob/main/ImbalancedData-RandomOverSampling.ipynb\" target=\"_parent\"><img src=\"https://colab.research.google.com/assets/colab-badge.svg\" alt=\"Open In Colab\"/></a>"
      ]
    },
    {
      "cell_type": "code",
      "metadata": {
        "id": "q32yhcHh889T"
      },
      "source": [
        "import numpy as np\r\n",
        "import pandas as pd\r\n",
        "import matplotlib.pyplot as plt"
      ],
      "execution_count": null,
      "outputs": []
    },
    {
      "cell_type": "code",
      "metadata": {
        "id": "w8ZKXcMcrz21"
      },
      "source": [
        "data=pd.read_csv(\"/content/creditcard.csv\")"
      ],
      "execution_count": null,
      "outputs": []
    },
    {
      "cell_type": "code",
      "metadata": {
        "colab": {
          "base_uri": "https://localhost:8080/",
          "height": 215
        },
        "id": "IF3rPBYur_jL",
        "outputId": "223b9c60-6677-497b-a585-fafefdc1a741"
      },
      "source": [
        "data.head()"
      ],
      "execution_count": null,
      "outputs": [
        {
          "output_type": "execute_result",
          "data": {
            "text/html": [
              "<div>\n",
              "<style scoped>\n",
              "    .dataframe tbody tr th:only-of-type {\n",
              "        vertical-align: middle;\n",
              "    }\n",
              "\n",
              "    .dataframe tbody tr th {\n",
              "        vertical-align: top;\n",
              "    }\n",
              "\n",
              "    .dataframe thead th {\n",
              "        text-align: right;\n",
              "    }\n",
              "</style>\n",
              "<table border=\"1\" class=\"dataframe\">\n",
              "  <thead>\n",
              "    <tr style=\"text-align: right;\">\n",
              "      <th></th>\n",
              "      <th>Time</th>\n",
              "      <th>V1</th>\n",
              "      <th>V2</th>\n",
              "      <th>V3</th>\n",
              "      <th>V4</th>\n",
              "      <th>V5</th>\n",
              "      <th>V6</th>\n",
              "      <th>V7</th>\n",
              "      <th>V8</th>\n",
              "      <th>V9</th>\n",
              "      <th>V10</th>\n",
              "      <th>V11</th>\n",
              "      <th>V12</th>\n",
              "      <th>V13</th>\n",
              "      <th>V14</th>\n",
              "      <th>V15</th>\n",
              "      <th>V16</th>\n",
              "      <th>V17</th>\n",
              "      <th>V18</th>\n",
              "      <th>V19</th>\n",
              "      <th>V20</th>\n",
              "      <th>V21</th>\n",
              "      <th>V22</th>\n",
              "      <th>V23</th>\n",
              "      <th>V24</th>\n",
              "      <th>V25</th>\n",
              "      <th>V26</th>\n",
              "      <th>V27</th>\n",
              "      <th>V28</th>\n",
              "      <th>Amount</th>\n",
              "      <th>Class</th>\n",
              "    </tr>\n",
              "  </thead>\n",
              "  <tbody>\n",
              "    <tr>\n",
              "      <th>0</th>\n",
              "      <td>0.0</td>\n",
              "      <td>-1.359807</td>\n",
              "      <td>-0.072781</td>\n",
              "      <td>2.536347</td>\n",
              "      <td>1.378155</td>\n",
              "      <td>-0.338321</td>\n",
              "      <td>0.462388</td>\n",
              "      <td>0.239599</td>\n",
              "      <td>0.098698</td>\n",
              "      <td>0.363787</td>\n",
              "      <td>0.090794</td>\n",
              "      <td>-0.551600</td>\n",
              "      <td>-0.617801</td>\n",
              "      <td>-0.991390</td>\n",
              "      <td>-0.311169</td>\n",
              "      <td>1.468177</td>\n",
              "      <td>-0.470401</td>\n",
              "      <td>0.207971</td>\n",
              "      <td>0.025791</td>\n",
              "      <td>0.403993</td>\n",
              "      <td>0.251412</td>\n",
              "      <td>-0.018307</td>\n",
              "      <td>0.277838</td>\n",
              "      <td>-0.110474</td>\n",
              "      <td>0.066928</td>\n",
              "      <td>0.128539</td>\n",
              "      <td>-0.189115</td>\n",
              "      <td>0.133558</td>\n",
              "      <td>-0.021053</td>\n",
              "      <td>149.62</td>\n",
              "      <td>0.0</td>\n",
              "    </tr>\n",
              "    <tr>\n",
              "      <th>1</th>\n",
              "      <td>0.0</td>\n",
              "      <td>1.191857</td>\n",
              "      <td>0.266151</td>\n",
              "      <td>0.166480</td>\n",
              "      <td>0.448154</td>\n",
              "      <td>0.060018</td>\n",
              "      <td>-0.082361</td>\n",
              "      <td>-0.078803</td>\n",
              "      <td>0.085102</td>\n",
              "      <td>-0.255425</td>\n",
              "      <td>-0.166974</td>\n",
              "      <td>1.612727</td>\n",
              "      <td>1.065235</td>\n",
              "      <td>0.489095</td>\n",
              "      <td>-0.143772</td>\n",
              "      <td>0.635558</td>\n",
              "      <td>0.463917</td>\n",
              "      <td>-0.114805</td>\n",
              "      <td>-0.183361</td>\n",
              "      <td>-0.145783</td>\n",
              "      <td>-0.069083</td>\n",
              "      <td>-0.225775</td>\n",
              "      <td>-0.638672</td>\n",
              "      <td>0.101288</td>\n",
              "      <td>-0.339846</td>\n",
              "      <td>0.167170</td>\n",
              "      <td>0.125895</td>\n",
              "      <td>-0.008983</td>\n",
              "      <td>0.014724</td>\n",
              "      <td>2.69</td>\n",
              "      <td>0.0</td>\n",
              "    </tr>\n",
              "    <tr>\n",
              "      <th>2</th>\n",
              "      <td>1.0</td>\n",
              "      <td>-1.358354</td>\n",
              "      <td>-1.340163</td>\n",
              "      <td>1.773209</td>\n",
              "      <td>0.379780</td>\n",
              "      <td>-0.503198</td>\n",
              "      <td>1.800499</td>\n",
              "      <td>0.791461</td>\n",
              "      <td>0.247676</td>\n",
              "      <td>-1.514654</td>\n",
              "      <td>0.207643</td>\n",
              "      <td>0.624501</td>\n",
              "      <td>0.066084</td>\n",
              "      <td>0.717293</td>\n",
              "      <td>-0.165946</td>\n",
              "      <td>2.345865</td>\n",
              "      <td>-2.890083</td>\n",
              "      <td>1.109969</td>\n",
              "      <td>-0.121359</td>\n",
              "      <td>-2.261857</td>\n",
              "      <td>0.524980</td>\n",
              "      <td>0.247998</td>\n",
              "      <td>0.771679</td>\n",
              "      <td>0.909412</td>\n",
              "      <td>-0.689281</td>\n",
              "      <td>-0.327642</td>\n",
              "      <td>-0.139097</td>\n",
              "      <td>-0.055353</td>\n",
              "      <td>-0.059752</td>\n",
              "      <td>378.66</td>\n",
              "      <td>0.0</td>\n",
              "    </tr>\n",
              "    <tr>\n",
              "      <th>3</th>\n",
              "      <td>1.0</td>\n",
              "      <td>-0.966272</td>\n",
              "      <td>-0.185226</td>\n",
              "      <td>1.792993</td>\n",
              "      <td>-0.863291</td>\n",
              "      <td>-0.010309</td>\n",
              "      <td>1.247203</td>\n",
              "      <td>0.237609</td>\n",
              "      <td>0.377436</td>\n",
              "      <td>-1.387024</td>\n",
              "      <td>-0.054952</td>\n",
              "      <td>-0.226487</td>\n",
              "      <td>0.178228</td>\n",
              "      <td>0.507757</td>\n",
              "      <td>-0.287924</td>\n",
              "      <td>-0.631418</td>\n",
              "      <td>-1.059647</td>\n",
              "      <td>-0.684093</td>\n",
              "      <td>1.965775</td>\n",
              "      <td>-1.232622</td>\n",
              "      <td>-0.208038</td>\n",
              "      <td>-0.108300</td>\n",
              "      <td>0.005274</td>\n",
              "      <td>-0.190321</td>\n",
              "      <td>-1.175575</td>\n",
              "      <td>0.647376</td>\n",
              "      <td>-0.221929</td>\n",
              "      <td>0.062723</td>\n",
              "      <td>0.061458</td>\n",
              "      <td>123.50</td>\n",
              "      <td>0.0</td>\n",
              "    </tr>\n",
              "    <tr>\n",
              "      <th>4</th>\n",
              "      <td>2.0</td>\n",
              "      <td>-1.158233</td>\n",
              "      <td>0.877737</td>\n",
              "      <td>1.548718</td>\n",
              "      <td>0.403034</td>\n",
              "      <td>-0.407193</td>\n",
              "      <td>0.095921</td>\n",
              "      <td>0.592941</td>\n",
              "      <td>-0.270533</td>\n",
              "      <td>0.817739</td>\n",
              "      <td>0.753074</td>\n",
              "      <td>-0.822843</td>\n",
              "      <td>0.538196</td>\n",
              "      <td>1.345852</td>\n",
              "      <td>-1.119670</td>\n",
              "      <td>0.175121</td>\n",
              "      <td>-0.451449</td>\n",
              "      <td>-0.237033</td>\n",
              "      <td>-0.038195</td>\n",
              "      <td>0.803487</td>\n",
              "      <td>0.408542</td>\n",
              "      <td>-0.009431</td>\n",
              "      <td>0.798278</td>\n",
              "      <td>-0.137458</td>\n",
              "      <td>0.141267</td>\n",
              "      <td>-0.206010</td>\n",
              "      <td>0.502292</td>\n",
              "      <td>0.219422</td>\n",
              "      <td>0.215153</td>\n",
              "      <td>69.99</td>\n",
              "      <td>0.0</td>\n",
              "    </tr>\n",
              "  </tbody>\n",
              "</table>\n",
              "</div>"
            ],
            "text/plain": [
              "   Time        V1        V2        V3  ...       V27       V28  Amount  Class\n",
              "0   0.0 -1.359807 -0.072781  2.536347  ...  0.133558 -0.021053  149.62    0.0\n",
              "1   0.0  1.191857  0.266151  0.166480  ... -0.008983  0.014724    2.69    0.0\n",
              "2   1.0 -1.358354 -1.340163  1.773209  ... -0.055353 -0.059752  378.66    0.0\n",
              "3   1.0 -0.966272 -0.185226  1.792993  ...  0.062723  0.061458  123.50    0.0\n",
              "4   2.0 -1.158233  0.877737  1.548718  ...  0.219422  0.215153   69.99    0.0\n",
              "\n",
              "[5 rows x 31 columns]"
            ]
          },
          "metadata": {
            "tags": []
          },
          "execution_count": 3
        }
      ]
    },
    {
      "cell_type": "code",
      "metadata": {
        "colab": {
          "base_uri": "https://localhost:8080/"
        },
        "id": "1PDVAiipsQwx",
        "outputId": "fa7b2d5b-1500-43e0-97ea-875fbdb7da60"
      },
      "source": [
        "data.info()"
      ],
      "execution_count": null,
      "outputs": [
        {
          "output_type": "stream",
          "text": [
            "<class 'pandas.core.frame.DataFrame'>\n",
            "RangeIndex: 176396 entries, 0 to 176395\n",
            "Data columns (total 31 columns):\n",
            " #   Column  Non-Null Count   Dtype  \n",
            "---  ------  --------------   -----  \n",
            " 0   Time    176396 non-null  float64\n",
            " 1   V1      176396 non-null  float64\n",
            " 2   V2      176396 non-null  float64\n",
            " 3   V3      176396 non-null  float64\n",
            " 4   V4      176396 non-null  float64\n",
            " 5   V5      176396 non-null  float64\n",
            " 6   V6      176396 non-null  float64\n",
            " 7   V7      176396 non-null  float64\n",
            " 8   V8      176396 non-null  float64\n",
            " 9   V9      176396 non-null  float64\n",
            " 10  V10     176395 non-null  float64\n",
            " 11  V11     176395 non-null  float64\n",
            " 12  V12     176395 non-null  float64\n",
            " 13  V13     176395 non-null  float64\n",
            " 14  V14     176395 non-null  float64\n",
            " 15  V15     176395 non-null  float64\n",
            " 16  V16     176395 non-null  float64\n",
            " 17  V17     176395 non-null  float64\n",
            " 18  V18     176395 non-null  float64\n",
            " 19  V19     176395 non-null  float64\n",
            " 20  V20     176395 non-null  float64\n",
            " 21  V21     176395 non-null  float64\n",
            " 22  V22     176395 non-null  float64\n",
            " 23  V23     176395 non-null  float64\n",
            " 24  V24     176395 non-null  float64\n",
            " 25  V25     176395 non-null  float64\n",
            " 26  V26     176395 non-null  float64\n",
            " 27  V27     176395 non-null  float64\n",
            " 28  V28     176395 non-null  float64\n",
            " 29  Amount  176395 non-null  float64\n",
            " 30  Class   176395 non-null  float64\n",
            "dtypes: float64(31)\n",
            "memory usage: 41.7 MB\n"
          ],
          "name": "stdout"
        }
      ]
    },
    {
      "cell_type": "code",
      "metadata": {
        "colab": {
          "base_uri": "https://localhost:8080/",
          "height": 304
        },
        "id": "5YdaZU45sW8N",
        "outputId": "8609f4fe-9d39-42c1-e2f0-9182115c4a0b"
      },
      "source": [
        "data.describe()"
      ],
      "execution_count": null,
      "outputs": [
        {
          "output_type": "execute_result",
          "data": {
            "text/html": [
              "<div>\n",
              "<style scoped>\n",
              "    .dataframe tbody tr th:only-of-type {\n",
              "        vertical-align: middle;\n",
              "    }\n",
              "\n",
              "    .dataframe tbody tr th {\n",
              "        vertical-align: top;\n",
              "    }\n",
              "\n",
              "    .dataframe thead th {\n",
              "        text-align: right;\n",
              "    }\n",
              "</style>\n",
              "<table border=\"1\" class=\"dataframe\">\n",
              "  <thead>\n",
              "    <tr style=\"text-align: right;\">\n",
              "      <th></th>\n",
              "      <th>Time</th>\n",
              "      <th>V1</th>\n",
              "      <th>V2</th>\n",
              "      <th>V3</th>\n",
              "      <th>V4</th>\n",
              "      <th>V5</th>\n",
              "      <th>V6</th>\n",
              "      <th>V7</th>\n",
              "      <th>V8</th>\n",
              "      <th>V9</th>\n",
              "      <th>V10</th>\n",
              "      <th>V11</th>\n",
              "      <th>V12</th>\n",
              "      <th>V13</th>\n",
              "      <th>V14</th>\n",
              "      <th>V15</th>\n",
              "      <th>V16</th>\n",
              "      <th>V17</th>\n",
              "      <th>V18</th>\n",
              "      <th>V19</th>\n",
              "      <th>V20</th>\n",
              "      <th>V21</th>\n",
              "      <th>V22</th>\n",
              "      <th>V23</th>\n",
              "      <th>V24</th>\n",
              "      <th>V25</th>\n",
              "      <th>V26</th>\n",
              "      <th>V27</th>\n",
              "      <th>V28</th>\n",
              "      <th>Amount</th>\n",
              "      <th>Class</th>\n",
              "    </tr>\n",
              "  </thead>\n",
              "  <tbody>\n",
              "    <tr>\n",
              "      <th>count</th>\n",
              "      <td>176396.000000</td>\n",
              "      <td>176396.000000</td>\n",
              "      <td>176396.000000</td>\n",
              "      <td>176396.000000</td>\n",
              "      <td>176396.000000</td>\n",
              "      <td>176396.000000</td>\n",
              "      <td>176396.000000</td>\n",
              "      <td>176396.000000</td>\n",
              "      <td>176396.000000</td>\n",
              "      <td>176396.000000</td>\n",
              "      <td>176395.000000</td>\n",
              "      <td>176395.000000</td>\n",
              "      <td>176395.000000</td>\n",
              "      <td>176395.000000</td>\n",
              "      <td>176395.000000</td>\n",
              "      <td>176395.000000</td>\n",
              "      <td>176395.000000</td>\n",
              "      <td>176395.000000</td>\n",
              "      <td>176395.000000</td>\n",
              "      <td>176395.000000</td>\n",
              "      <td>176395.000000</td>\n",
              "      <td>176395.000000</td>\n",
              "      <td>176395.000000</td>\n",
              "      <td>176395.000000</td>\n",
              "      <td>176395.000000</td>\n",
              "      <td>176395.000000</td>\n",
              "      <td>176395.000000</td>\n",
              "      <td>176395.000000</td>\n",
              "      <td>176395.000000</td>\n",
              "      <td>176395.000000</td>\n",
              "      <td>176395.000000</td>\n",
              "    </tr>\n",
              "    <tr>\n",
              "      <th>mean</th>\n",
              "      <td>62982.145701</td>\n",
              "      <td>-0.154506</td>\n",
              "      <td>0.030861</td>\n",
              "      <td>0.455517</td>\n",
              "      <td>0.105809</td>\n",
              "      <td>-0.164180</td>\n",
              "      <td>0.056130</td>\n",
              "      <td>-0.075411</td>\n",
              "      <td>0.028465</td>\n",
              "      <td>0.016747</td>\n",
              "      <td>-0.024658</td>\n",
              "      <td>0.178905</td>\n",
              "      <td>-0.091708</td>\n",
              "      <td>0.059328</td>\n",
              "      <td>0.074734</td>\n",
              "      <td>0.121421</td>\n",
              "      <td>-0.005559</td>\n",
              "      <td>0.038555</td>\n",
              "      <td>-0.048961</td>\n",
              "      <td>-0.017524</td>\n",
              "      <td>0.028487</td>\n",
              "      <td>-0.025204</td>\n",
              "      <td>-0.075271</td>\n",
              "      <td>-0.020898</td>\n",
              "      <td>0.008065</td>\n",
              "      <td>0.085239</td>\n",
              "      <td>0.011061</td>\n",
              "      <td>0.002433</td>\n",
              "      <td>0.002292</td>\n",
              "      <td>87.864992</td>\n",
              "      <td>0.002052</td>\n",
              "    </tr>\n",
              "    <tr>\n",
              "      <th>std</th>\n",
              "      <td>29342.892261</td>\n",
              "      <td>1.864762</td>\n",
              "      <td>1.612565</td>\n",
              "      <td>1.401140</td>\n",
              "      <td>1.378648</td>\n",
              "      <td>1.350417</td>\n",
              "      <td>1.301105</td>\n",
              "      <td>1.214113</td>\n",
              "      <td>1.228852</td>\n",
              "      <td>1.148828</td>\n",
              "      <td>1.096338</td>\n",
              "      <td>1.046131</td>\n",
              "      <td>1.132761</td>\n",
              "      <td>1.044734</td>\n",
              "      <td>0.977008</td>\n",
              "      <td>0.949936</td>\n",
              "      <td>0.884361</td>\n",
              "      <td>0.908130</td>\n",
              "      <td>0.836202</td>\n",
              "      <td>0.814059</td>\n",
              "      <td>0.731018</td>\n",
              "      <td>0.742832</td>\n",
              "      <td>0.673261</td>\n",
              "      <td>0.594096</td>\n",
              "      <td>0.600062</td>\n",
              "      <td>0.470995</td>\n",
              "      <td>0.490002</td>\n",
              "      <td>0.392008</td>\n",
              "      <td>0.306107</td>\n",
              "      <td>246.830642</td>\n",
              "      <td>0.045255</td>\n",
              "    </tr>\n",
              "    <tr>\n",
              "      <th>min</th>\n",
              "      <td>0.000000</td>\n",
              "      <td>-56.407510</td>\n",
              "      <td>-72.715728</td>\n",
              "      <td>-33.680984</td>\n",
              "      <td>-5.519697</td>\n",
              "      <td>-42.147898</td>\n",
              "      <td>-26.160506</td>\n",
              "      <td>-43.557242</td>\n",
              "      <td>-73.216718</td>\n",
              "      <td>-13.434066</td>\n",
              "      <td>-24.588262</td>\n",
              "      <td>-4.797473</td>\n",
              "      <td>-18.683715</td>\n",
              "      <td>-5.791881</td>\n",
              "      <td>-19.214325</td>\n",
              "      <td>-4.498945</td>\n",
              "      <td>-14.129855</td>\n",
              "      <td>-25.162799</td>\n",
              "      <td>-9.498746</td>\n",
              "      <td>-7.213527</td>\n",
              "      <td>-22.838548</td>\n",
              "      <td>-34.830382</td>\n",
              "      <td>-10.933144</td>\n",
              "      <td>-44.807735</td>\n",
              "      <td>-2.836627</td>\n",
              "      <td>-10.295397</td>\n",
              "      <td>-2.604551</td>\n",
              "      <td>-22.565679</td>\n",
              "      <td>-11.710896</td>\n",
              "      <td>0.000000</td>\n",
              "      <td>0.000000</td>\n",
              "    </tr>\n",
              "    <tr>\n",
              "      <th>25%</th>\n",
              "      <td>41793.750000</td>\n",
              "      <td>-0.980646</td>\n",
              "      <td>-0.550846</td>\n",
              "      <td>-0.118789</td>\n",
              "      <td>-0.759179</td>\n",
              "      <td>-0.820666</td>\n",
              "      <td>-0.695054</td>\n",
              "      <td>-0.585255</td>\n",
              "      <td>-0.166800</td>\n",
              "      <td>-0.660642</td>\n",
              "      <td>-0.518222</td>\n",
              "      <td>-0.576316</td>\n",
              "      <td>-0.504330</td>\n",
              "      <td>-0.630141</td>\n",
              "      <td>-0.343285</td>\n",
              "      <td>-0.463710</td>\n",
              "      <td>-0.471304</td>\n",
              "      <td>-0.422765</td>\n",
              "      <td>-0.524783</td>\n",
              "      <td>-0.495709</td>\n",
              "      <td>-0.185690</td>\n",
              "      <td>-0.229846</td>\n",
              "      <td>-0.544525</td>\n",
              "      <td>-0.169666</td>\n",
              "      <td>-0.334266</td>\n",
              "      <td>-0.206132</td>\n",
              "      <td>-0.330606</td>\n",
              "      <td>-0.065351</td>\n",
              "      <td>-0.031394</td>\n",
              "      <td>5.520000</td>\n",
              "      <td>0.000000</td>\n",
              "    </tr>\n",
              "    <tr>\n",
              "      <th>50%</th>\n",
              "      <td>62028.000000</td>\n",
              "      <td>-0.159085</td>\n",
              "      <td>0.101641</td>\n",
              "      <td>0.597976</td>\n",
              "      <td>0.111055</td>\n",
              "      <td>-0.216066</td>\n",
              "      <td>-0.206152</td>\n",
              "      <td>-0.028765</td>\n",
              "      <td>0.053284</td>\n",
              "      <td>-0.078358</td>\n",
              "      <td>-0.108336</td>\n",
              "      <td>0.109221</td>\n",
              "      <td>0.110533</td>\n",
              "      <td>0.027822</td>\n",
              "      <td>0.088773</td>\n",
              "      <td>0.228048</td>\n",
              "      <td>0.064772</td>\n",
              "      <td>-0.021452</td>\n",
              "      <td>-0.050144</td>\n",
              "      <td>-0.019097</td>\n",
              "      <td>-0.037645</td>\n",
              "      <td>-0.051891</td>\n",
              "      <td>-0.059415</td>\n",
              "      <td>-0.034394</td>\n",
              "      <td>0.058285</td>\n",
              "      <td>0.129175</td>\n",
              "      <td>-0.059486</td>\n",
              "      <td>0.008157</td>\n",
              "      <td>0.020614</td>\n",
              "      <td>22.000000</td>\n",
              "      <td>0.000000</td>\n",
              "    </tr>\n",
              "    <tr>\n",
              "      <th>75%</th>\n",
              "      <td>79933.000000</td>\n",
              "      <td>1.190938</td>\n",
              "      <td>0.796824</td>\n",
              "      <td>1.282814</td>\n",
              "      <td>0.925997</td>\n",
              "      <td>0.393076</td>\n",
              "      <td>0.447622</td>\n",
              "      <td>0.469102</td>\n",
              "      <td>0.347519</td>\n",
              "      <td>0.637736</td>\n",
              "      <td>0.417646</td>\n",
              "      <td>0.978403</td>\n",
              "      <td>0.616352</td>\n",
              "      <td>0.736423</td>\n",
              "      <td>0.523557</td>\n",
              "      <td>0.815912</td>\n",
              "      <td>0.529861</td>\n",
              "      <td>0.432100</td>\n",
              "      <td>0.436620</td>\n",
              "      <td>0.469203</td>\n",
              "      <td>0.154541</td>\n",
              "      <td>0.133506</td>\n",
              "      <td>0.377058</td>\n",
              "      <td>0.102684</td>\n",
              "      <td>0.417207</td>\n",
              "      <td>0.396081</td>\n",
              "      <td>0.270273</td>\n",
              "      <td>0.089670</td>\n",
              "      <td>0.078228</td>\n",
              "      <td>77.600000</td>\n",
              "      <td>0.000000</td>\n",
              "    </tr>\n",
              "    <tr>\n",
              "      <th>max</th>\n",
              "      <td>122746.000000</td>\n",
              "      <td>2.439207</td>\n",
              "      <td>22.057729</td>\n",
              "      <td>9.382558</td>\n",
              "      <td>16.875344</td>\n",
              "      <td>34.801666</td>\n",
              "      <td>22.529298</td>\n",
              "      <td>36.677268</td>\n",
              "      <td>20.007208</td>\n",
              "      <td>15.594995</td>\n",
              "      <td>23.745136</td>\n",
              "      <td>12.018913</td>\n",
              "      <td>7.848392</td>\n",
              "      <td>4.569009</td>\n",
              "      <td>10.526766</td>\n",
              "      <td>5.784514</td>\n",
              "      <td>6.098529</td>\n",
              "      <td>9.253526</td>\n",
              "      <td>5.041069</td>\n",
              "      <td>5.228342</td>\n",
              "      <td>39.420904</td>\n",
              "      <td>27.202839</td>\n",
              "      <td>10.503090</td>\n",
              "      <td>19.002942</td>\n",
              "      <td>4.022866</td>\n",
              "      <td>7.519589</td>\n",
              "      <td>3.517346</td>\n",
              "      <td>12.152401</td>\n",
              "      <td>33.847808</td>\n",
              "      <td>19656.530000</td>\n",
              "      <td>1.000000</td>\n",
              "    </tr>\n",
              "  </tbody>\n",
              "</table>\n",
              "</div>"
            ],
            "text/plain": [
              "                Time             V1  ...         Amount          Class\n",
              "count  176396.000000  176396.000000  ...  176395.000000  176395.000000\n",
              "mean    62982.145701      -0.154506  ...      87.864992       0.002052\n",
              "std     29342.892261       1.864762  ...     246.830642       0.045255\n",
              "min         0.000000     -56.407510  ...       0.000000       0.000000\n",
              "25%     41793.750000      -0.980646  ...       5.520000       0.000000\n",
              "50%     62028.000000      -0.159085  ...      22.000000       0.000000\n",
              "75%     79933.000000       1.190938  ...      77.600000       0.000000\n",
              "max    122746.000000       2.439207  ...   19656.530000       1.000000\n",
              "\n",
              "[8 rows x 31 columns]"
            ]
          },
          "metadata": {
            "tags": []
          },
          "execution_count": 5
        }
      ]
    },
    {
      "cell_type": "code",
      "metadata": {
        "colab": {
          "base_uri": "https://localhost:8080/"
        },
        "id": "pNFJd2X6sc_R",
        "outputId": "4aa8b449-0ec5-40d4-d719-921a4358dfb7"
      },
      "source": [
        "data.isnull().values.any()"
      ],
      "execution_count": null,
      "outputs": [
        {
          "output_type": "execute_result",
          "data": {
            "text/plain": [
              "True"
            ]
          },
          "metadata": {
            "tags": []
          },
          "execution_count": 6
        }
      ]
    },
    {
      "cell_type": "code",
      "metadata": {
        "id": "ZjBZV8TLsoCd"
      },
      "source": [
        "data.dropna(inplace=True)"
      ],
      "execution_count": null,
      "outputs": []
    },
    {
      "cell_type": "code",
      "metadata": {
        "colab": {
          "base_uri": "https://localhost:8080/"
        },
        "id": "WW18dpHssrvQ",
        "outputId": "35d9db1a-8673-4977-a066-ed00ba7d5df9"
      },
      "source": [
        "data.isnull().values.any()"
      ],
      "execution_count": null,
      "outputs": [
        {
          "output_type": "execute_result",
          "data": {
            "text/plain": [
              "False"
            ]
          },
          "metadata": {
            "tags": []
          },
          "execution_count": 8
        }
      ]
    },
    {
      "cell_type": "code",
      "metadata": {
        "id": "QjUZos3AsySS"
      },
      "source": [
        "x=data.drop('Class',axis=1)\r\n",
        "y=data['Class']"
      ],
      "execution_count": null,
      "outputs": []
    },
    {
      "cell_type": "code",
      "metadata": {
        "colab": {
          "base_uri": "https://localhost:8080/",
          "height": 422
        },
        "id": "W7cRvJ8Is6Bx",
        "outputId": "acfb20e1-d527-4b41-878c-f39f53c91647"
      },
      "source": [
        "x"
      ],
      "execution_count": null,
      "outputs": [
        {
          "output_type": "execute_result",
          "data": {
            "text/html": [
              "<div>\n",
              "<style scoped>\n",
              "    .dataframe tbody tr th:only-of-type {\n",
              "        vertical-align: middle;\n",
              "    }\n",
              "\n",
              "    .dataframe tbody tr th {\n",
              "        vertical-align: top;\n",
              "    }\n",
              "\n",
              "    .dataframe thead th {\n",
              "        text-align: right;\n",
              "    }\n",
              "</style>\n",
              "<table border=\"1\" class=\"dataframe\">\n",
              "  <thead>\n",
              "    <tr style=\"text-align: right;\">\n",
              "      <th></th>\n",
              "      <th>Time</th>\n",
              "      <th>V1</th>\n",
              "      <th>V2</th>\n",
              "      <th>V3</th>\n",
              "      <th>V4</th>\n",
              "      <th>V5</th>\n",
              "      <th>V6</th>\n",
              "      <th>V7</th>\n",
              "      <th>V8</th>\n",
              "      <th>V9</th>\n",
              "      <th>V10</th>\n",
              "      <th>V11</th>\n",
              "      <th>V12</th>\n",
              "      <th>V13</th>\n",
              "      <th>V14</th>\n",
              "      <th>V15</th>\n",
              "      <th>V16</th>\n",
              "      <th>V17</th>\n",
              "      <th>V18</th>\n",
              "      <th>V19</th>\n",
              "      <th>V20</th>\n",
              "      <th>V21</th>\n",
              "      <th>V22</th>\n",
              "      <th>V23</th>\n",
              "      <th>V24</th>\n",
              "      <th>V25</th>\n",
              "      <th>V26</th>\n",
              "      <th>V27</th>\n",
              "      <th>V28</th>\n",
              "      <th>Amount</th>\n",
              "    </tr>\n",
              "  </thead>\n",
              "  <tbody>\n",
              "    <tr>\n",
              "      <th>0</th>\n",
              "      <td>0.0</td>\n",
              "      <td>-1.359807</td>\n",
              "      <td>-0.072781</td>\n",
              "      <td>2.536347</td>\n",
              "      <td>1.378155</td>\n",
              "      <td>-0.338321</td>\n",
              "      <td>0.462388</td>\n",
              "      <td>0.239599</td>\n",
              "      <td>0.098698</td>\n",
              "      <td>0.363787</td>\n",
              "      <td>0.090794</td>\n",
              "      <td>-0.551600</td>\n",
              "      <td>-0.617801</td>\n",
              "      <td>-0.991390</td>\n",
              "      <td>-0.311169</td>\n",
              "      <td>1.468177</td>\n",
              "      <td>-0.470401</td>\n",
              "      <td>0.207971</td>\n",
              "      <td>0.025791</td>\n",
              "      <td>0.403993</td>\n",
              "      <td>0.251412</td>\n",
              "      <td>-0.018307</td>\n",
              "      <td>0.277838</td>\n",
              "      <td>-0.110474</td>\n",
              "      <td>0.066928</td>\n",
              "      <td>0.128539</td>\n",
              "      <td>-0.189115</td>\n",
              "      <td>0.133558</td>\n",
              "      <td>-0.021053</td>\n",
              "      <td>149.62</td>\n",
              "    </tr>\n",
              "    <tr>\n",
              "      <th>1</th>\n",
              "      <td>0.0</td>\n",
              "      <td>1.191857</td>\n",
              "      <td>0.266151</td>\n",
              "      <td>0.166480</td>\n",
              "      <td>0.448154</td>\n",
              "      <td>0.060018</td>\n",
              "      <td>-0.082361</td>\n",
              "      <td>-0.078803</td>\n",
              "      <td>0.085102</td>\n",
              "      <td>-0.255425</td>\n",
              "      <td>-0.166974</td>\n",
              "      <td>1.612727</td>\n",
              "      <td>1.065235</td>\n",
              "      <td>0.489095</td>\n",
              "      <td>-0.143772</td>\n",
              "      <td>0.635558</td>\n",
              "      <td>0.463917</td>\n",
              "      <td>-0.114805</td>\n",
              "      <td>-0.183361</td>\n",
              "      <td>-0.145783</td>\n",
              "      <td>-0.069083</td>\n",
              "      <td>-0.225775</td>\n",
              "      <td>-0.638672</td>\n",
              "      <td>0.101288</td>\n",
              "      <td>-0.339846</td>\n",
              "      <td>0.167170</td>\n",
              "      <td>0.125895</td>\n",
              "      <td>-0.008983</td>\n",
              "      <td>0.014724</td>\n",
              "      <td>2.69</td>\n",
              "    </tr>\n",
              "    <tr>\n",
              "      <th>2</th>\n",
              "      <td>1.0</td>\n",
              "      <td>-1.358354</td>\n",
              "      <td>-1.340163</td>\n",
              "      <td>1.773209</td>\n",
              "      <td>0.379780</td>\n",
              "      <td>-0.503198</td>\n",
              "      <td>1.800499</td>\n",
              "      <td>0.791461</td>\n",
              "      <td>0.247676</td>\n",
              "      <td>-1.514654</td>\n",
              "      <td>0.207643</td>\n",
              "      <td>0.624501</td>\n",
              "      <td>0.066084</td>\n",
              "      <td>0.717293</td>\n",
              "      <td>-0.165946</td>\n",
              "      <td>2.345865</td>\n",
              "      <td>-2.890083</td>\n",
              "      <td>1.109969</td>\n",
              "      <td>-0.121359</td>\n",
              "      <td>-2.261857</td>\n",
              "      <td>0.524980</td>\n",
              "      <td>0.247998</td>\n",
              "      <td>0.771679</td>\n",
              "      <td>0.909412</td>\n",
              "      <td>-0.689281</td>\n",
              "      <td>-0.327642</td>\n",
              "      <td>-0.139097</td>\n",
              "      <td>-0.055353</td>\n",
              "      <td>-0.059752</td>\n",
              "      <td>378.66</td>\n",
              "    </tr>\n",
              "    <tr>\n",
              "      <th>3</th>\n",
              "      <td>1.0</td>\n",
              "      <td>-0.966272</td>\n",
              "      <td>-0.185226</td>\n",
              "      <td>1.792993</td>\n",
              "      <td>-0.863291</td>\n",
              "      <td>-0.010309</td>\n",
              "      <td>1.247203</td>\n",
              "      <td>0.237609</td>\n",
              "      <td>0.377436</td>\n",
              "      <td>-1.387024</td>\n",
              "      <td>-0.054952</td>\n",
              "      <td>-0.226487</td>\n",
              "      <td>0.178228</td>\n",
              "      <td>0.507757</td>\n",
              "      <td>-0.287924</td>\n",
              "      <td>-0.631418</td>\n",
              "      <td>-1.059647</td>\n",
              "      <td>-0.684093</td>\n",
              "      <td>1.965775</td>\n",
              "      <td>-1.232622</td>\n",
              "      <td>-0.208038</td>\n",
              "      <td>-0.108300</td>\n",
              "      <td>0.005274</td>\n",
              "      <td>-0.190321</td>\n",
              "      <td>-1.175575</td>\n",
              "      <td>0.647376</td>\n",
              "      <td>-0.221929</td>\n",
              "      <td>0.062723</td>\n",
              "      <td>0.061458</td>\n",
              "      <td>123.50</td>\n",
              "    </tr>\n",
              "    <tr>\n",
              "      <th>4</th>\n",
              "      <td>2.0</td>\n",
              "      <td>-1.158233</td>\n",
              "      <td>0.877737</td>\n",
              "      <td>1.548718</td>\n",
              "      <td>0.403034</td>\n",
              "      <td>-0.407193</td>\n",
              "      <td>0.095921</td>\n",
              "      <td>0.592941</td>\n",
              "      <td>-0.270533</td>\n",
              "      <td>0.817739</td>\n",
              "      <td>0.753074</td>\n",
              "      <td>-0.822843</td>\n",
              "      <td>0.538196</td>\n",
              "      <td>1.345852</td>\n",
              "      <td>-1.119670</td>\n",
              "      <td>0.175121</td>\n",
              "      <td>-0.451449</td>\n",
              "      <td>-0.237033</td>\n",
              "      <td>-0.038195</td>\n",
              "      <td>0.803487</td>\n",
              "      <td>0.408542</td>\n",
              "      <td>-0.009431</td>\n",
              "      <td>0.798278</td>\n",
              "      <td>-0.137458</td>\n",
              "      <td>0.141267</td>\n",
              "      <td>-0.206010</td>\n",
              "      <td>0.502292</td>\n",
              "      <td>0.219422</td>\n",
              "      <td>0.215153</td>\n",
              "      <td>69.99</td>\n",
              "    </tr>\n",
              "    <tr>\n",
              "      <th>...</th>\n",
              "      <td>...</td>\n",
              "      <td>...</td>\n",
              "      <td>...</td>\n",
              "      <td>...</td>\n",
              "      <td>...</td>\n",
              "      <td>...</td>\n",
              "      <td>...</td>\n",
              "      <td>...</td>\n",
              "      <td>...</td>\n",
              "      <td>...</td>\n",
              "      <td>...</td>\n",
              "      <td>...</td>\n",
              "      <td>...</td>\n",
              "      <td>...</td>\n",
              "      <td>...</td>\n",
              "      <td>...</td>\n",
              "      <td>...</td>\n",
              "      <td>...</td>\n",
              "      <td>...</td>\n",
              "      <td>...</td>\n",
              "      <td>...</td>\n",
              "      <td>...</td>\n",
              "      <td>...</td>\n",
              "      <td>...</td>\n",
              "      <td>...</td>\n",
              "      <td>...</td>\n",
              "      <td>...</td>\n",
              "      <td>...</td>\n",
              "      <td>...</td>\n",
              "      <td>...</td>\n",
              "    </tr>\n",
              "    <tr>\n",
              "      <th>176390</th>\n",
              "      <td>122743.0</td>\n",
              "      <td>-1.753993</td>\n",
              "      <td>-0.444508</td>\n",
              "      <td>1.576456</td>\n",
              "      <td>-1.128927</td>\n",
              "      <td>3.012404</td>\n",
              "      <td>4.322246</td>\n",
              "      <td>-0.495219</td>\n",
              "      <td>0.816192</td>\n",
              "      <td>0.780422</td>\n",
              "      <td>-0.160415</td>\n",
              "      <td>-0.277326</td>\n",
              "      <td>-0.285209</td>\n",
              "      <td>-0.159145</td>\n",
              "      <td>-0.900246</td>\n",
              "      <td>0.813486</td>\n",
              "      <td>0.686405</td>\n",
              "      <td>-1.418713</td>\n",
              "      <td>0.497515</td>\n",
              "      <td>-1.424022</td>\n",
              "      <td>-0.350280</td>\n",
              "      <td>0.061740</td>\n",
              "      <td>0.733914</td>\n",
              "      <td>-0.186043</td>\n",
              "      <td>0.693467</td>\n",
              "      <td>0.614934</td>\n",
              "      <td>-0.593313</td>\n",
              "      <td>-0.459423</td>\n",
              "      <td>-0.373269</td>\n",
              "      <td>0.00</td>\n",
              "    </tr>\n",
              "    <tr>\n",
              "      <th>176391</th>\n",
              "      <td>122744.0</td>\n",
              "      <td>-0.272896</td>\n",
              "      <td>0.236096</td>\n",
              "      <td>1.026038</td>\n",
              "      <td>-0.781282</td>\n",
              "      <td>0.472870</td>\n",
              "      <td>0.102311</td>\n",
              "      <td>0.143961</td>\n",
              "      <td>0.137648</td>\n",
              "      <td>0.549519</td>\n",
              "      <td>-0.754961</td>\n",
              "      <td>-2.171485</td>\n",
              "      <td>-0.480585</td>\n",
              "      <td>-0.056565</td>\n",
              "      <td>-0.336966</td>\n",
              "      <td>0.011213</td>\n",
              "      <td>0.549003</td>\n",
              "      <td>-0.902175</td>\n",
              "      <td>0.449387</td>\n",
              "      <td>-0.097268</td>\n",
              "      <td>-0.071026</td>\n",
              "      <td>0.222872</td>\n",
              "      <td>0.743281</td>\n",
              "      <td>-0.219515</td>\n",
              "      <td>-1.012841</td>\n",
              "      <td>-0.568725</td>\n",
              "      <td>0.539959</td>\n",
              "      <td>0.159407</td>\n",
              "      <td>0.185443</td>\n",
              "      <td>11.50</td>\n",
              "    </tr>\n",
              "    <tr>\n",
              "      <th>176392</th>\n",
              "      <td>122744.0</td>\n",
              "      <td>-0.143203</td>\n",
              "      <td>0.448801</td>\n",
              "      <td>-0.255255</td>\n",
              "      <td>-1.549023</td>\n",
              "      <td>0.629865</td>\n",
              "      <td>-0.902968</td>\n",
              "      <td>0.958712</td>\n",
              "      <td>-0.341046</td>\n",
              "      <td>-1.594348</td>\n",
              "      <td>-0.459055</td>\n",
              "      <td>-1.054509</td>\n",
              "      <td>-1.143533</td>\n",
              "      <td>0.445722</td>\n",
              "      <td>-1.409076</td>\n",
              "      <td>-0.319687</td>\n",
              "      <td>0.933016</td>\n",
              "      <td>1.206342</td>\n",
              "      <td>-0.908005</td>\n",
              "      <td>1.318293</td>\n",
              "      <td>0.298934</td>\n",
              "      <td>0.052116</td>\n",
              "      <td>0.078867</td>\n",
              "      <td>-0.240169</td>\n",
              "      <td>-0.729771</td>\n",
              "      <td>0.139542</td>\n",
              "      <td>-0.132203</td>\n",
              "      <td>0.097531</td>\n",
              "      <td>0.152973</td>\n",
              "      <td>55.05</td>\n",
              "    </tr>\n",
              "    <tr>\n",
              "      <th>176393</th>\n",
              "      <td>122745.0</td>\n",
              "      <td>-1.590887</td>\n",
              "      <td>-1.612974</td>\n",
              "      <td>-0.731219</td>\n",
              "      <td>1.219138</td>\n",
              "      <td>3.787143</td>\n",
              "      <td>-0.905691</td>\n",
              "      <td>-0.170848</td>\n",
              "      <td>0.143373</td>\n",
              "      <td>-0.721447</td>\n",
              "      <td>0.190193</td>\n",
              "      <td>-0.449899</td>\n",
              "      <td>0.361320</td>\n",
              "      <td>-0.067576</td>\n",
              "      <td>0.768101</td>\n",
              "      <td>-0.869595</td>\n",
              "      <td>-0.703007</td>\n",
              "      <td>-0.463196</td>\n",
              "      <td>0.631015</td>\n",
              "      <td>1.457762</td>\n",
              "      <td>0.739933</td>\n",
              "      <td>0.406847</td>\n",
              "      <td>0.506986</td>\n",
              "      <td>0.315057</td>\n",
              "      <td>-0.409703</td>\n",
              "      <td>-0.135447</td>\n",
              "      <td>-0.444254</td>\n",
              "      <td>0.124487</td>\n",
              "      <td>0.261974</td>\n",
              "      <td>80.24</td>\n",
              "    </tr>\n",
              "    <tr>\n",
              "      <th>176394</th>\n",
              "      <td>122746.0</td>\n",
              "      <td>-1.571163</td>\n",
              "      <td>1.705435</td>\n",
              "      <td>0.379289</td>\n",
              "      <td>-0.785636</td>\n",
              "      <td>-0.934174</td>\n",
              "      <td>-0.635331</td>\n",
              "      <td>-0.578228</td>\n",
              "      <td>0.971728</td>\n",
              "      <td>0.837208</td>\n",
              "      <td>-1.094289</td>\n",
              "      <td>-0.715201</td>\n",
              "      <td>0.616366</td>\n",
              "      <td>0.862685</td>\n",
              "      <td>-1.367871</td>\n",
              "      <td>0.580827</td>\n",
              "      <td>0.944989</td>\n",
              "      <td>0.561915</td>\n",
              "      <td>0.687539</td>\n",
              "      <td>-0.740258</td>\n",
              "      <td>0.096009</td>\n",
              "      <td>0.021709</td>\n",
              "      <td>0.163864</td>\n",
              "      <td>-0.008785</td>\n",
              "      <td>-0.107863</td>\n",
              "      <td>0.024110</td>\n",
              "      <td>-0.043288</td>\n",
              "      <td>0.150160</td>\n",
              "      <td>0.100352</td>\n",
              "      <td>9.99</td>\n",
              "    </tr>\n",
              "  </tbody>\n",
              "</table>\n",
              "<p>176395 rows × 30 columns</p>\n",
              "</div>"
            ],
            "text/plain": [
              "            Time        V1        V2  ...       V27       V28  Amount\n",
              "0            0.0 -1.359807 -0.072781  ...  0.133558 -0.021053  149.62\n",
              "1            0.0  1.191857  0.266151  ... -0.008983  0.014724    2.69\n",
              "2            1.0 -1.358354 -1.340163  ... -0.055353 -0.059752  378.66\n",
              "3            1.0 -0.966272 -0.185226  ...  0.062723  0.061458  123.50\n",
              "4            2.0 -1.158233  0.877737  ...  0.219422  0.215153   69.99\n",
              "...          ...       ...       ...  ...       ...       ...     ...\n",
              "176390  122743.0 -1.753993 -0.444508  ... -0.459423 -0.373269    0.00\n",
              "176391  122744.0 -0.272896  0.236096  ...  0.159407  0.185443   11.50\n",
              "176392  122744.0 -0.143203  0.448801  ...  0.097531  0.152973   55.05\n",
              "176393  122745.0 -1.590887 -1.612974  ...  0.124487  0.261974   80.24\n",
              "176394  122746.0 -1.571163  1.705435  ...  0.150160  0.100352    9.99\n",
              "\n",
              "[176395 rows x 30 columns]"
            ]
          },
          "metadata": {
            "tags": []
          },
          "execution_count": 10
        }
      ]
    },
    {
      "cell_type": "code",
      "metadata": {
        "colab": {
          "base_uri": "https://localhost:8080/"
        },
        "id": "Rukn6do2s8aN",
        "outputId": "72b8d1dd-e351-4416-aed3-9d00cdb67b94"
      },
      "source": [
        "y"
      ],
      "execution_count": null,
      "outputs": [
        {
          "output_type": "execute_result",
          "data": {
            "text/plain": [
              "0         0.0\n",
              "1         0.0\n",
              "2         0.0\n",
              "3         0.0\n",
              "4         0.0\n",
              "         ... \n",
              "176390    0.0\n",
              "176391    0.0\n",
              "176392    0.0\n",
              "176393    0.0\n",
              "176394    0.0\n",
              "Name: Class, Length: 176395, dtype: float64"
            ]
          },
          "metadata": {
            "tags": []
          },
          "execution_count": 11
        }
      ]
    },
    {
      "cell_type": "code",
      "metadata": {
        "colab": {
          "base_uri": "https://localhost:8080/"
        },
        "id": "lzjYpYmxs-MN",
        "outputId": "8de54064-489f-4973-964c-932b225b6fb3"
      },
      "source": [
        "data['Class'].value_counts()"
      ],
      "execution_count": null,
      "outputs": [
        {
          "output_type": "execute_result",
          "data": {
            "text/plain": [
              "0.0    176033\n",
              "1.0       362\n",
              "Name: Class, dtype: int64"
            ]
          },
          "metadata": {
            "tags": []
          },
          "execution_count": 12
        }
      ]
    },
    {
      "cell_type": "code",
      "metadata": {
        "colab": {
          "base_uri": "https://localhost:8080/",
          "height": 356
        },
        "id": "_IyRWrxJtUsK",
        "outputId": "fb62a97d-edf8-4d9d-fd02-fc3b69d1e68a"
      },
      "source": [
        "data['Class'].value_counts().plot(kind='bar')\r\n",
        "plt.title(\"Genuine and Fradulent Class Distribution\")\r\n",
        "plt.xticks([0,1],['Genuine','Fraudulent'])\r\n",
        "plt.xlabel('Class')\r\n",
        "plt.ylabel('Count')"
      ],
      "execution_count": null,
      "outputs": [
        {
          "output_type": "execute_result",
          "data": {
            "text/plain": [
              "Text(0, 0.5, 'Count')"
            ]
          },
          "metadata": {
            "tags": []
          },
          "execution_count": 13
        },
        {
          "output_type": "display_data",
          "data": {
            "image/png": "[encoded data removed]",
            "text/plain": [
              "<Figure size 432x288 with 1 Axes>"
            ]
          },
          "metadata": {
            "tags": [],
            "needs_background": "light"
          }
        }
      ]
    },
    {
      "cell_type": "markdown",
      "metadata": {
        "id": "i8uD3gNGuGWX"
      },
      "source": [
        "# RandomOverSampling"
      ]
    },
    {
      "cell_type": "code",
      "metadata": {
        "colab": {
          "base_uri": "https://localhost:8080/"
        },
        "id": "mCK6NxxAuBou",
        "outputId": "629eff30-b5ed-42f8-e341-8faaf7b87ba3"
      },
      "source": [
        "from imblearn.over_sampling import RandomOverSampler\r\n",
        "os=RandomOverSampler(sampling_strategy=1.0)\r\n",
        "x_res,y_res=os.fit_sample(x,y)"
      ],
      "execution_count": null,
      "outputs": [
        {
          "output_type": "stream",
          "text": [
            "/usr/local/lib/python3.6/dist-packages/sklearn/externals/six.py:31: FutureWarning: The module is deprecated in version 0.21 and will be removed in version 0.23 since we've dropped support for Python 2.7. Please rely on the official version of six (https://pypi.org/project/six/).\n",
            "  \"(https://pypi.org/project/six/).\", FutureWarning)\n",
            "/usr/local/lib/python3.6/dist-packages/sklearn/utils/deprecation.py:144: FutureWarning: The sklearn.neighbors.base module is  deprecated in version 0.22 and will be removed in version 0.24. The corresponding classes / functions should instead be imported from sklearn.neighbors. Anything that cannot be imported from sklearn.neighbors is now part of the private API.\n",
            "  warnings.warn(message, FutureWarning)\n",
            "/usr/local/lib/python3.6/dist-packages/sklearn/utils/deprecation.py:87: FutureWarning: Function safe_indexing is deprecated; safe_indexing is deprecated in version 0.22 and will be removed in version 0.24.\n",
            "  warnings.warn(msg, category=FutureWarning)\n"
          ],
          "name": "stderr"
        }
      ]
    },
    {
      "cell_type": "code",
      "metadata": {
        "id": "7uUMh5KMzM8L"
      },
      "source": [
        "x_res=pd.DataFrame(x_res)"
      ],
      "execution_count": null,
      "outputs": []
    },
    {
      "cell_type": "code",
      "metadata": {
        "colab": {
          "base_uri": "https://localhost:8080/"
        },
        "id": "QxeU1VW_zUSK",
        "outputId": "209e47c3-e9dd-4a91-a85e-57551d2d94da"
      },
      "source": [
        "x_res.value_counts()"
      ],
      "execution_count": null,
      "outputs": [
        {
          "output_type": "execute_result",
          "data": {
            "text/plain": [
              "0        1           2           3           4          5           6          7           8           9          10          11         12          13         14          15         16          17          18         19         20         21          22         23         24         25         26         27         28         29    \n",
              "68207.0  -13.192671   12.785971  -9.906650    3.320337  -4.801176    5.760059  -18.750889  -37.353443  -0.391540  -5.052502    4.406806  -4.610756   -1.909488  -9.072711   -0.226074  -6.211557   -6.248145   -3.149247   0.051576  -3.493050   27.202839  -8.887017   5.303607  -0.639435   0.263203  -0.108877   1.269566   0.939407  1.00      2984\n",
              "94362.0  -26.457745   16.497472  -30.177317   8.904157  -17.892600  -1.227904  -31.197329  -11.438920  -9.462573  -22.187089   4.419997  -10.592305  -0.703796  -3.926207   -2.400246  -6.809890   -12.462315  -5.501051  -0.567940   2.812241  -8.755698    3.460893   0.896538   0.254836  -0.738097  -0.966564  -7.263482  -1.324884  1.00      1915\n",
              "93853.0  -6.185857    7.102985   -13.030455   8.010823  -7.885237   -3.974550  -12.229608   4.971232   -4.248307  -12.965481   8.688308  -17.182918   0.069577  -14.116156   0.959032  -12.375334  -18.716765  -6.522015   3.517955   0.483930   2.502772    0.481691   0.480958   0.360319  -0.293354  -0.199193  -0.203917   0.398927  44.90      998\n",
              "85285.0  -6.713407    3.921104   -9.746678    5.148263  -5.151563   -2.099389  -5.937767    3.578780   -4.684952  -8.537758    6.348979  -8.681609    0.251179  -11.608002  -0.351569  -5.363566   -11.939092  -3.583603   0.897402   0.135711   0.954272   -0.451086   0.127214  -0.339450   0.394096   1.075295   1.649906  -0.394905  252.92     988\n",
              "84204.0  -0.937843    3.462889   -6.445104    4.932199  -2.233983   -2.291561  -5.695594    1.338825   -4.322377  -8.099119    7.182967  -9.445943   -0.314620  -12.991466  -0.136359  -6.367524   -12.734394  -3.845130   1.007667   1.129532   1.066550   -0.521657  -0.319917  -0.405859   0.906802   1.165784   1.374495   0.729889  0.00       985\n",
              "                                                                                                                                                                                                                                                                                                                                                   ... \n",
              "74690.0   1.205872    0.413365   -0.155215    1.068588   0.216466   -0.716735   0.499536   -0.225861   -0.297567  -0.007957   -0.124946   0.348863    0.067005   0.578020    0.926061  -0.511803   -0.038678   -0.827221  -0.616736  -0.151801   0.040390    0.180628  -0.129537   0.098221   0.777457  -0.268586   0.006391   0.010262  16.09        1\n",
              "74689.0   1.158721    0.145099    0.501586    0.458730  -0.218195   -0.187334  -0.089185    0.062345   -0.261190   0.047067    1.749801   1.290325    0.489663   0.410792    0.554064   0.195378   -0.411664   -0.527621  -0.191564  -0.079422  -0.170083   -0.499515   0.142768   0.020680   0.121140   0.105148  -0.016130   0.007434  9.99         1\n",
              "          0.710989   -1.132821    1.001206    0.527045  -1.598691   -0.483062  -0.315563   -0.032276    1.150076  -0.568396   -0.494217   0.707656   -0.012189  -0.485181   -0.298478  -0.184027    0.269049   -0.698275   0.263629   0.416864  -0.062391   -0.480936  -0.097363   0.811904   0.002996   0.895480  -0.079833   0.060821  255.70       1\n",
              "74688.0   0.972391   -1.037477   -0.737420   -0.861708  -0.051111    0.238825   0.175666   -0.141448   -1.582576   0.670000    0.703708   1.023472    1.701796   0.272815    0.159284  -1.261972   -0.374807    0.663507  -0.194951   0.083724  -0.587694   -1.719895  -0.113824  -1.124179   0.108663   0.762024  -0.105631   0.021872  237.91       1\n",
              "0.0      -1.359807   -0.072781    2.536347    1.378155  -0.338321    0.462388   0.239599    0.098698    0.363787   0.090794   -0.551600  -0.617801   -0.991390  -0.311169    1.468177  -0.470401    0.207971    0.025791   0.403993   0.251412  -0.018307    0.277838  -0.110474   0.066928   0.128539  -0.189115   0.133558  -0.021053  149.62       1\n",
              "Length: 175728, dtype: int64"
            ]
          },
          "metadata": {
            "tags": []
          },
          "execution_count": 36
        }
      ]
    },
    {
      "cell_type": "code",
      "metadata": {
        "id": "1DRhKDfdwr2T"
      },
      "source": [
        "y_res=pd.DataFrame(y_res)"
      ],
      "execution_count": null,
      "outputs": []
    },
    {
      "cell_type": "code",
      "metadata": {
        "colab": {
          "base_uri": "https://localhost:8080/"
        },
        "id": "WcWgcsilw3LO",
        "outputId": "3e43f489-f489-41fe-f52c-a6ff6623ee12"
      },
      "source": [
        "y_res.value_counts()"
      ],
      "execution_count": null,
      "outputs": [
        {
          "output_type": "execute_result",
          "data": {
            "text/plain": [
              "1.0    176033\n",
              "0.0    176033\n",
              "dtype: int64"
            ]
          },
          "metadata": {
            "tags": []
          },
          "execution_count": 38
        }
      ]
    },
    {
      "cell_type": "code",
      "metadata": {
        "colab": {
          "base_uri": "https://localhost:8080/"
        },
        "id": "7pcJCdyExuO3",
        "outputId": "a9b6a8b9-9de8-40e8-d5d3-776374b124d6"
      },
      "source": [
        "type(x_res)"
      ],
      "execution_count": null,
      "outputs": [
        {
          "output_type": "execute_result",
          "data": {
            "text/plain": [
              "pandas.core.frame.DataFrame"
            ]
          },
          "metadata": {
            "tags": []
          },
          "execution_count": 39
        }
      ]
    },
    {
      "cell_type": "code",
      "metadata": {
        "colab": {
          "base_uri": "https://localhost:8080/"
        },
        "id": "RrVi1xWux4S4",
        "outputId": "009c4693-0d01-4068-bd05-e56eb1f83ccb"
      },
      "source": [
        "type(y_res)"
      ],
      "execution_count": null,
      "outputs": [
        {
          "output_type": "execute_result",
          "data": {
            "text/plain": [
              "pandas.core.frame.DataFrame"
            ]
          },
          "metadata": {
            "tags": []
          },
          "execution_count": 40
        }
      ]
    },
    {
      "cell_type": "code",
      "metadata": {
        "colab": {
          "base_uri": "https://localhost:8080/"
        },
        "id": "TE-widqkx8Y4",
        "outputId": "6d171f12-7ea2-4b7c-9aef-82ba9717cc99"
      },
      "source": [
        "from collections import Counter\r\n",
        "print('Actual dataset {}'.format(Counter(y)))\r\n",
        "print('Undersampled dataset {}'.format(Counter(y_res)))"
      ],
      "execution_count": null,
      "outputs": [
        {
          "output_type": "stream",
          "text": [
            "Actual dataset Counter({0.0: 176033, 1.0: 362})\n",
            "Undersampled dataset Counter({0: 1})\n"
          ],
          "name": "stdout"
        }
      ]
    },
    {
      "cell_type": "code",
      "metadata": {
        "colab": {
          "base_uri": "https://localhost:8080/",
          "height": 390
        },
        "id": "NrbOmOoMyFhp",
        "outputId": "03cb5571-b860-465f-bcac-b667a34da084"
      },
      "source": [
        "y_res.value_counts().plot(kind='bar')\r\n",
        "plt.title(\"Genuine and Fradulent Class Distribution\")\r\n",
        "plt.xlabel(\"Class\")\r\n",
        "plt.ylabel(\"Count\")\r\n",
        "plt.xticks([0,1],['Genuine','Fraudulent'])"
      ],
      "execution_count": null,
      "outputs": [
        {
          "output_type": "execute_result",
          "data": {
            "text/plain": [
              "([<matplotlib.axis.XTick at 0x7f5996d51198>,\n",
              "  <matplotlib.axis.XTick at 0x7f5996d51128>],\n",
              " [Text(0, 0, 'Genuine'), Text(0, 0, 'Fraudulent')])"
            ]
          },
          "metadata": {
            "tags": []
          },
          "execution_count": 42
        },
        {
          "output_type": "display_data",
          "data": {
            "image/png": "[encoded data removed]",
            "text/plain": [
              "<Figure size 432x288 with 1 Axes>"
            ]
          },
          "metadata": {
            "tags": [],
            "needs_background": "light"
          }
        }
      ]
    },
    {
      "cell_type": "code",
      "metadata": {
        "id": "NDBkui7cyhtN"
      },
      "source": [
        ""
      ],
      "execution_count": null,
      "outputs": []
    }
  ]
}